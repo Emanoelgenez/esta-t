{
 "cells": [
  {
   "cell_type": "markdown",
   "id": "c9dbf4df",
   "metadata": {},
   "source": [
    "# 0.0. IMPORTS"
   ]
  },
  {
   "cell_type": "code",
   "execution_count": 2,
   "id": "e7b0ba13",
   "metadata": {
    "ExecuteTime": {
     "end_time": "2022-06-01T07:29:25.325676Z",
     "start_time": "2022-06-01T07:29:19.090880Z"
    },
    "collapsed": true
   },
   "outputs": [
    {
     "name": "stdout",
     "output_type": "stream",
     "text": [
      "Collecting requests\n",
      "  Using cached requests-2.27.1-py2.py3-none-any.whl (63 kB)\n",
      "Collecting charset-normalizer~=2.0.0\n",
      "  Using cached charset_normalizer-2.0.12-py3-none-any.whl (39 kB)\n",
      "Requirement already satisfied: certifi>=2017.4.17 in c:\\users\\emanoel\\anaconda3\\envs\\analise_de_dados\\lib\\site-packages (from requests) (2021.10.8)\n",
      "Collecting urllib3<1.27,>=1.21.1\n",
      "  Using cached urllib3-1.26.9-py2.py3-none-any.whl (138 kB)\n",
      "Collecting idna<4,>=2.5\n",
      "  Using cached idna-3.3-py3-none-any.whl (61 kB)\n",
      "Installing collected packages: urllib3, idna, charset-normalizer, requests\n",
      "Successfully installed charset-normalizer-2.0.12 idna-3.3 requests-2.27.1 urllib3-1.26.9\n"
     ]
    }
   ],
   "source": [
    "! pip install requests"
   ]
  },
  {
   "cell_type": "code",
   "execution_count": 24,
   "id": "e7845fff",
   "metadata": {
    "ExecuteTime": {
     "end_time": "2022-06-01T07:47:23.267002Z",
     "start_time": "2022-06-01T07:47:23.251017Z"
    }
   },
   "outputs": [],
   "source": [
    "import requests\n",
    "import pandas as pd\n",
    "import numpy as np\n",
    "\n",
    "from datetime import datetime\n",
    "from bs4 import BeautifulSoup"
   ]
  },
  {
   "cell_type": "code",
   "execution_count": 5,
   "id": "c708ada5",
   "metadata": {
    "ExecuteTime": {
     "end_time": "2022-06-01T07:38:48.286152Z",
     "start_time": "2022-06-01T07:38:47.654066Z"
    }
   },
   "outputs": [],
   "source": [
    "url = 'https://www2.hm.com/en_us/men/products/jeans.html'\n",
    "\n",
    "headers = {'User-Agent': 'Mozilla/5.0 (Macintosh; Intel Mac OS X 10_11_5), AppleWebKit/537.36 (KHTML, like Gecko) Chrome/50.0.2661.102 Safari/537.36'}\n",
    "           \n",
    "page = requests.get( url, headers=headers )"
   ]
  },
  {
   "cell_type": "code",
   "execution_count": 6,
   "id": "63d7e319",
   "metadata": {
    "ExecuteTime": {
     "end_time": "2022-06-01T07:39:17.136310Z",
     "start_time": "2022-06-01T07:39:16.765003Z"
    }
   },
   "outputs": [],
   "source": [
    " soup = BeautifulSoup( page.text, 'html.parser' )"
   ]
  },
  {
   "cell_type": "code",
   "execution_count": 7,
   "id": "834a6371",
   "metadata": {
    "ExecuteTime": {
     "end_time": "2022-06-01T07:39:42.389021Z",
     "start_time": "2022-06-01T07:39:42.342025Z"
    }
   },
   "outputs": [],
   "source": [
    "products = soup.find( 'ul', class_='products-listing small' )"
   ]
  },
  {
   "cell_type": "code",
   "execution_count": 8,
   "id": "b3d9f33f",
   "metadata": {
    "ExecuteTime": {
     "end_time": "2022-06-01T07:40:00.801277Z",
     "start_time": "2022-06-01T07:40:00.772278Z"
    }
   },
   "outputs": [],
   "source": [
    "product_list = products.find_all( 'article', class_='hm-product-item')\n",
    "# product id\n",
    "product_id = [p.get( 'data-articlecode' ) for p in product_list]\n",
    "# product category\n",
    "product_category = [p.get( 'data-category' ) for p in product_list]"
   ]
  },
  {
   "cell_type": "code",
   "execution_count": 9,
   "id": "707837d0",
   "metadata": {
    "ExecuteTime": {
     "end_time": "2022-06-01T07:40:18.688174Z",
     "start_time": "2022-06-01T07:40:18.661192Z"
    }
   },
   "outputs": [],
   "source": [
    "# product name\n",
    "product_list = products.find_all( 'a', class_='link' )\n",
    "product_name = [p.get_text() for p in product_list]"
   ]
  },
  {
   "cell_type": "code",
   "execution_count": 10,
   "id": "0f099d49",
   "metadata": {
    "ExecuteTime": {
     "end_time": "2022-06-01T07:40:30.977487Z",
     "start_time": "2022-06-01T07:40:30.956504Z"
    }
   },
   "outputs": [],
   "source": [
    " # price\n",
    "product_list = products.find_all( 'span', class_='price regular' )\n",
    "product_price = [p.get_text() for p in product_list]"
   ]
  },
  {
   "cell_type": "code",
   "execution_count": 12,
   "id": "19c7eae8",
   "metadata": {
    "ExecuteTime": {
     "end_time": "2022-06-01T07:42:13.577245Z",
     "start_time": "2022-06-01T07:42:13.562253Z"
    }
   },
   "outputs": [],
   "source": [
    "# product color"
   ]
  },
  {
   "cell_type": "code",
   "execution_count": 11,
   "id": "5886a026",
   "metadata": {
    "ExecuteTime": {
     "end_time": "2022-06-01T07:42:11.019851Z",
     "start_time": "2022-06-01T07:42:11.007859Z"
    }
   },
   "outputs": [],
   "source": [
    "# product composition"
   ]
  },
  {
   "cell_type": "code",
   "execution_count": 22,
   "id": "efa8b99b",
   "metadata": {
    "ExecuteTime": {
     "end_time": "2022-06-01T07:45:13.807196Z",
     "start_time": "2022-06-01T07:45:13.682819Z"
    },
    "scrolled": true
   },
   "outputs": [],
   "source": [
    "data = pd.DataFrame( [product_id, product_category, product_name, product_price] ).T\n",
    "data.columns = ['product_id', 'product_category', 'product_name','product_price']\n",
    "\n",
    "# scrapy datetime\n",
    "data['scrapy_datetime'] = datetime.now().strftime( '%Y-%m-%d %H:%M:%S' )"
   ]
  },
  {
   "cell_type": "code",
   "execution_count": 23,
   "id": "e869e0f2",
   "metadata": {
    "ExecuteTime": {
     "end_time": "2022-06-01T07:45:15.858529Z",
     "start_time": "2022-06-01T07:45:15.829543Z"
    }
   },
   "outputs": [
    {
     "data": {
      "text/html": [
       "<div>\n",
       "<style scoped>\n",
       "    .dataframe tbody tr th:only-of-type {\n",
       "        vertical-align: middle;\n",
       "    }\n",
       "\n",
       "    .dataframe tbody tr th {\n",
       "        vertical-align: top;\n",
       "    }\n",
       "\n",
       "    .dataframe thead th {\n",
       "        text-align: right;\n",
       "    }\n",
       "</style>\n",
       "<table border=\"1\" class=\"dataframe\">\n",
       "  <thead>\n",
       "    <tr style=\"text-align: right;\">\n",
       "      <th></th>\n",
       "      <th>product_id</th>\n",
       "      <th>product_category</th>\n",
       "      <th>product_name</th>\n",
       "      <th>product_price</th>\n",
       "      <th>scrapy_datetime</th>\n",
       "    </tr>\n",
       "  </thead>\n",
       "  <tbody>\n",
       "    <tr>\n",
       "      <th>0</th>\n",
       "      <td>1074475001</td>\n",
       "      <td>men_jeans_loose</td>\n",
       "      <td>Loose Jeans</td>\n",
       "      <td>$ 39.99</td>\n",
       "      <td>2022-06-01 04:45:13</td>\n",
       "    </tr>\n",
       "    <tr>\n",
       "      <th>1</th>\n",
       "      <td>1071707001</td>\n",
       "      <td>men_jeans_relaxed</td>\n",
       "      <td>Relaxed Jeans</td>\n",
       "      <td>$ 29.99</td>\n",
       "      <td>2022-06-01 04:45:13</td>\n",
       "    </tr>\n",
       "    <tr>\n",
       "      <th>2</th>\n",
       "      <td>1024256001</td>\n",
       "      <td>men_jeans_slim</td>\n",
       "      <td>Slim Jeans</td>\n",
       "      <td>$ 19.99</td>\n",
       "      <td>2022-06-01 04:45:13</td>\n",
       "    </tr>\n",
       "    <tr>\n",
       "      <th>3</th>\n",
       "      <td>0985159001</td>\n",
       "      <td>men_jeans_skinny</td>\n",
       "      <td>Skinny Jeans</td>\n",
       "      <td>$ 19.99</td>\n",
       "      <td>2022-06-01 04:45:13</td>\n",
       "    </tr>\n",
       "    <tr>\n",
       "      <th>4</th>\n",
       "      <td>1024256003</td>\n",
       "      <td>men_jeans_slim</td>\n",
       "      <td>Slim Jeans</td>\n",
       "      <td>$ 19.99</td>\n",
       "      <td>2022-06-01 04:45:13</td>\n",
       "    </tr>\n",
       "  </tbody>\n",
       "</table>\n",
       "</div>"
      ],
      "text/plain": [
       "   product_id   product_category   product_name product_price  \\\n",
       "0  1074475001    men_jeans_loose    Loose Jeans       $ 39.99   \n",
       "1  1071707001  men_jeans_relaxed  Relaxed Jeans       $ 29.99   \n",
       "2  1024256001     men_jeans_slim     Slim Jeans       $ 19.99   \n",
       "3  0985159001   men_jeans_skinny   Skinny Jeans       $ 19.99   \n",
       "4  1024256003     men_jeans_slim     Slim Jeans       $ 19.99   \n",
       "\n",
       "       scrapy_datetime  \n",
       "0  2022-06-01 04:45:13  \n",
       "1  2022-06-01 04:45:13  \n",
       "2  2022-06-01 04:45:13  \n",
       "3  2022-06-01 04:45:13  \n",
       "4  2022-06-01 04:45:13  "
      ]
     },
     "execution_count": 23,
     "metadata": {},
     "output_type": "execute_result"
    }
   ],
   "source": [
    "data.head()"
   ]
  },
  {
   "cell_type": "code",
   "execution_count": null,
   "id": "b6912856",
   "metadata": {},
   "outputs": [],
   "source": []
  }
 ],
 "metadata": {
  "kernelspec": {
   "display_name": "Python 3 (ipykernel)",
   "language": "python",
   "name": "python3"
  },
  "language_info": {
   "codemirror_mode": {
    "name": "ipython",
    "version": 3
   },
   "file_extension": ".py",
   "mimetype": "text/x-python",
   "name": "python",
   "nbconvert_exporter": "python",
   "pygments_lexer": "ipython3",
   "version": "3.9.12"
  }
 },
 "nbformat": 4,
 "nbformat_minor": 5
}
